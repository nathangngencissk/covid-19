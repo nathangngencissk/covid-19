{
 "cells": [
  {
   "cell_type": "markdown",
   "metadata": {},
   "source": [
    "## Imports"
   ]
  },
  {
   "cell_type": "code",
   "execution_count": 1,
   "metadata": {},
   "outputs": [],
   "source": [
    "import pandas as pd\n",
    "import glob\n",
    "import math\n",
    "import dateutil.parser as dparser\n",
    "import datetime"
   ]
  },
  {
   "cell_type": "markdown",
   "metadata": {},
   "source": [
    "## Create dataframe from daily reports files"
   ]
  },
  {
   "cell_type": "code",
   "execution_count": 28,
   "metadata": {},
   "outputs": [],
   "source": [
    "files = glob.glob(\"./daily_reports/*.csv\")\n",
    "\n",
    "frames = [pd.read_csv(file) for file in files]\n",
    "\n",
    "daily_reports_frame = pd.concat(frames)"
   ]
  },
  {
   "cell_type": "markdown",
   "metadata": {},
   "source": [
    "### Change column names"
   ]
  },
  {
   "cell_type": "code",
   "execution_count": 29,
   "metadata": {},
   "outputs": [],
   "source": [
    "daily_reports_frame = daily_reports_frame.rename(\n",
    "    columns={'Province/State':'province_state', \n",
    "             'Country/Region':'country_region', \n",
    "             'Last Update':'last_update', \n",
    "             'Confirmed':'confirmed', \n",
    "             'Deaths':'deaths', \n",
    "             'Recovered':'recovered', \n",
    "             'Latitude':'latitude', \n",
    "             'Longitude':'longitude'\n",
    "             })"
   ]
  },
  {
   "cell_type": "markdown",
   "metadata": {},
   "source": [
    "## Dataset cleaning"
   ]
  },
  {
   "cell_type": "code",
   "execution_count": 4,
   "metadata": {},
   "outputs": [],
   "source": [
    "def extract_date(date):\n",
    "    date_object = dparser.parse(date,fuzzy=True)\n",
    "    return date_object.strftime('%Y-%m-%d')"
   ]
  },
  {
   "cell_type": "code",
   "execution_count": 30,
   "metadata": {},
   "outputs": [],
   "source": [
    "daily_reports_frame['province_state'] = daily_reports_frame['province_state'].fillna('Unknown')\n",
    "daily_reports_frame['country_region'] = daily_reports_frame['country_region'].fillna('Unknown')\n",
    "daily_reports_frame['last_update'] = daily_reports_frame['last_update'].fillna('Unknown')\n",
    "daily_reports_frame['latitude'] = daily_reports_frame['latitude'].fillna('Unknown')\n",
    "daily_reports_frame['longitude'] = daily_reports_frame['longitude'].fillna('Unknown')\n",
    "daily_reports_frame['confirmed'] = daily_reports_frame['confirmed'].fillna(0)\n",
    "daily_reports_frame['deaths'] = daily_reports_frame['deaths'].fillna(0)\n",
    "daily_reports_frame['recovered'] = daily_reports_frame['recovered'].fillna(0)\n",
    "daily_reports_frame['last_update'] = daily_reports_frame['last_update'].apply(extract_date)\n",
    "daily_reports_frame.reset_index(drop=True)\n",
    "daily_reports_frame.to_csv('covid-19.csv', index=False)"
   ]
  },
  {
   "cell_type": "markdown",
   "metadata": {},
   "source": [
    "#### Preliminary Analysis"
   ]
  },
  {
   "cell_type": "code",
   "execution_count": 31,
   "metadata": {},
   "outputs": [
    {
     "data": {
      "text/plain": [
       "(7617, 8)"
      ]
     },
     "execution_count": 31,
     "metadata": {},
     "output_type": "execute_result"
    }
   ],
   "source": [
    "#daily_reports_frame.groupby(['province_state','country_region']).deaths.sum().sort_values(ascending=False)\n",
    "#daily_reports_frame.groupby(['province_state','country_region']).head()\n",
    "daily_reports_frame.shape"
   ]
  },
  {
   "cell_type": "code",
   "execution_count": null,
   "metadata": {},
   "outputs": [],
   "source": []
  }
 ],
 "metadata": {
  "kernelspec": {
   "display_name": "Python 3.8.2 64-bit ('covid19': venv)",
   "language": "python",
   "name": "python38264bitcovid19venv42d2148903914b0f9ea63353a0f67c27"
  },
  "language_info": {
   "codemirror_mode": {
    "name": "ipython",
    "version": 3
   },
   "file_extension": ".py",
   "mimetype": "text/x-python",
   "name": "python",
   "nbconvert_exporter": "python",
   "pygments_lexer": "ipython3",
   "version": "3.8.2"
  }
 },
 "nbformat": 4,
 "nbformat_minor": 4
}
