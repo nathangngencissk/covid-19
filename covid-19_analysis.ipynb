{
 "cells": [
  {
   "cell_type": "markdown",
   "metadata": {},
   "source": [
    "## Imports"
   ]
  },
  {
   "cell_type": "code",
   "execution_count": 2,
   "metadata": {},
   "outputs": [],
   "source": [
    "import pandas as pd\n",
    "import glob\n",
    "import math"
   ]
  },
  {
   "cell_type": "markdown",
   "metadata": {},
   "source": [
    "## Create dataframe from daily reports files"
   ]
  },
  {
   "cell_type": "code",
   "execution_count": 3,
   "metadata": {},
   "outputs": [],
   "source": [
    "files = glob.glob(\"./daily_reports/*.csv\")\n",
    "\n",
    "frames = [pd.read_csv(file) for file in files]\n",
    "\n",
    "daily_reports_frame = pd.concat(frames)"
   ]
  },
  {
   "cell_type": "markdown",
   "metadata": {},
   "source": [
    "## Dataset cleaning"
   ]
  },
  {
   "cell_type": "markdown",
   "metadata": {},
   "source": [
    "### Change column names"
   ]
  },
  {
   "cell_type": "code",
   "execution_count": 10,
   "metadata": {},
   "outputs": [],
   "source": [
    "daily_reports_frame = daily_reports_frame.rename(\n",
    "    columns={'Province/State':'province_state', \n",
    "             'Country/Region':'country_region', \n",
    "             'Last Update':'last_update', \n",
    "             'Confirmed':'confirmed', \n",
    "             'Deaths':'deaths', \n",
    "             'Recovered':'recovered', \n",
    "             'Latitude':'latitude', \n",
    "             'Longitude':'longitude'\n",
    "             })"
   ]
  },
  {
   "cell_type": "code",
   "execution_count": 11,
   "metadata": {},
   "outputs": [
    {
     "data": {
      "text/html": "<div>\n<style scoped>\n    .dataframe tbody tr th:only-of-type {\n        vertical-align: middle;\n    }\n\n    .dataframe tbody tr th {\n        vertical-align: top;\n    }\n\n    .dataframe thead th {\n        text-align: right;\n    }\n</style>\n<table border=\"1\" class=\"dataframe\">\n  <thead>\n    <tr style=\"text-align: right;\">\n      <th></th>\n      <th>province_state</th>\n      <th>country_region</th>\n      <th>last_update</th>\n      <th>confirmed</th>\n      <th>deaths</th>\n      <th>recovered</th>\n      <th>latitude</th>\n      <th>longitude</th>\n    </tr>\n  </thead>\n  <tbody>\n    <tr>\n      <th>0</th>\n      <td>Hubei</td>\n      <td>Mainland China</td>\n      <td>2020-02-08T23:33:06</td>\n      <td>27100.0</td>\n      <td>780.0</td>\n      <td>1439.0</td>\n      <td>NaN</td>\n      <td>NaN</td>\n    </tr>\n    <tr>\n      <th>1</th>\n      <td>Guangdong</td>\n      <td>Mainland China</td>\n      <td>2020-02-08T11:53:01</td>\n      <td>1095.0</td>\n      <td>1.0</td>\n      <td>112.0</td>\n      <td>NaN</td>\n      <td>NaN</td>\n    </tr>\n    <tr>\n      <th>2</th>\n      <td>Zhejiang</td>\n      <td>Mainland China</td>\n      <td>2020-02-08T10:53:02</td>\n      <td>1048.0</td>\n      <td>0.0</td>\n      <td>175.0</td>\n      <td>NaN</td>\n      <td>NaN</td>\n    </tr>\n    <tr>\n      <th>3</th>\n      <td>Henan</td>\n      <td>Mainland China</td>\n      <td>2020-02-08T14:13:12</td>\n      <td>981.0</td>\n      <td>4.0</td>\n      <td>116.0</td>\n      <td>NaN</td>\n      <td>NaN</td>\n    </tr>\n    <tr>\n      <th>4</th>\n      <td>Hunan</td>\n      <td>Mainland China</td>\n      <td>2020-02-08T12:53:01</td>\n      <td>803.0</td>\n      <td>1.0</td>\n      <td>156.0</td>\n      <td>NaN</td>\n      <td>NaN</td>\n    </tr>\n    <tr>\n      <th>...</th>\n      <td>...</td>\n      <td>...</td>\n      <td>...</td>\n      <td>...</td>\n      <td>...</td>\n      <td>...</td>\n      <td>...</td>\n      <td>...</td>\n    </tr>\n    <tr>\n      <th>225</th>\n      <td>NaN</td>\n      <td>Afghanistan</td>\n      <td>2020-03-11T20:00:00</td>\n      <td>7.0</td>\n      <td>0.0</td>\n      <td>0.0</td>\n      <td>33.0000</td>\n      <td>65.0000</td>\n    </tr>\n    <tr>\n      <th>226</th>\n      <td>NaN</td>\n      <td>Monaco</td>\n      <td>2020-03-11T20:00:00</td>\n      <td>2.0</td>\n      <td>0.0</td>\n      <td>0.0</td>\n      <td>43.7333</td>\n      <td>7.4167</td>\n    </tr>\n    <tr>\n      <th>227</th>\n      <td>NaN</td>\n      <td>Liechtenstein</td>\n      <td>2020-03-11T20:00:00</td>\n      <td>1.0</td>\n      <td>0.0</td>\n      <td>0.0</td>\n      <td>47.1400</td>\n      <td>9.5500</td>\n    </tr>\n    <tr>\n      <th>228</th>\n      <td>NaN</td>\n      <td>Guyana</td>\n      <td>2020-03-11T20:00:00</td>\n      <td>1.0</td>\n      <td>1.0</td>\n      <td>0.0</td>\n      <td>5.0000</td>\n      <td>-58.7500</td>\n    </tr>\n    <tr>\n      <th>229</th>\n      <td>NaN</td>\n      <td>Taiwan*</td>\n      <td>2020-03-11T20:00:00</td>\n      <td>50.0</td>\n      <td>1.0</td>\n      <td>20.0</td>\n      <td>23.7000</td>\n      <td>121.0000</td>\n    </tr>\n  </tbody>\n</table>\n<p>5383 rows × 8 columns</p>\n</div>",
      "text/plain": "    province_state  country_region          last_update  confirmed  deaths  \\\n0            Hubei  Mainland China  2020-02-08T23:33:06    27100.0   780.0   \n1        Guangdong  Mainland China  2020-02-08T11:53:01     1095.0     1.0   \n2         Zhejiang  Mainland China  2020-02-08T10:53:02     1048.0     0.0   \n3            Henan  Mainland China  2020-02-08T14:13:12      981.0     4.0   \n4            Hunan  Mainland China  2020-02-08T12:53:01      803.0     1.0   \n..             ...             ...                  ...        ...     ...   \n225            NaN     Afghanistan  2020-03-11T20:00:00        7.0     0.0   \n226            NaN          Monaco  2020-03-11T20:00:00        2.0     0.0   \n227            NaN   Liechtenstein  2020-03-11T20:00:00        1.0     0.0   \n228            NaN          Guyana  2020-03-11T20:00:00        1.0     1.0   \n229            NaN         Taiwan*  2020-03-11T20:00:00       50.0     1.0   \n\n     recovered  latitude  longitude  \n0       1439.0       NaN        NaN  \n1        112.0       NaN        NaN  \n2        175.0       NaN        NaN  \n3        116.0       NaN        NaN  \n4        156.0       NaN        NaN  \n..         ...       ...        ...  \n225        0.0   33.0000    65.0000  \n226        0.0   43.7333     7.4167  \n227        0.0   47.1400     9.5500  \n228        0.0    5.0000   -58.7500  \n229       20.0   23.7000   121.0000  \n\n[5383 rows x 8 columns]"
     },
     "execution_count": 11,
     "metadata": {},
     "output_type": "execute_result"
    }
   ],
   "source": [
    "daily_reports_frame"
   ]
  },
  {
   "cell_type": "markdown",
   "metadata": {},
   "source": [
    "#### Preliminary Analysis"
   ]
  },
  {
   "cell_type": "code",
   "execution_count": 4,
   "metadata": {},
   "outputs": [
    {
     "data": {
      "text/plain": "Country/Region\nMainland China     77455.0\nChina               9513.0\nItaly               5332.0\nIran                2564.0\nSouth Korea          415.0\n                    ...   \nNew Zealand            0.0\nNigeria                0.0\nNorth Ireland          0.0\nNorth Macedonia        0.0\n Azerbaijan            0.0\nName: Deaths, Length: 154, dtype: float64"
     },
     "execution_count": 4,
     "metadata": {},
     "output_type": "execute_result"
    }
   ],
   "source": [
    "daily_reports_frame.groupby(['Country/Region']).Deaths.sum().sort_values(ascending=False)"
   ]
  }
 ],
 "metadata": {
  "kernelspec": {
   "display_name": "Python 3.8.2 64-bit ('covid19': venv)",
   "language": "python",
   "name": "python38264bitcovid19venv42d2148903914b0f9ea63353a0f67c27"
  },
  "language_info": {
   "codemirror_mode": {
    "name": "ipython",
    "version": 3
   },
   "file_extension": ".py",
   "mimetype": "text/x-python",
   "name": "python",
   "nbconvert_exporter": "python",
   "pygments_lexer": "ipython3",
   "version": "3.8.2-final"
  }
 },
 "nbformat": 4,
 "nbformat_minor": 4
}